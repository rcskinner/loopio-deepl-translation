{
 "cells": [
  {
   "cell_type": "markdown",
   "metadata": {},
   "source": [
    "## Loopio API\n",
    "\n",
    "Documentation of the different API endpoints used for Loopio\n",
    "- https://developer.loopio.com/docs/loopio-api/55ef47e33f5eb-list-library-entries-you-can-interact-with\n",
    "    - Argument to filter as part of the query parameters \n",
    "    - Is it possible to filter based on tags are part of the API query \n",
    "- https://developer.loopio.com/docs/loopio-api/6e8ee29b39bf0-update-core-properties-of-a-library-entry\n",
    "    - Endpoint to update the properties of a library entry, will use to tag \n",
    "- https://developer.loopio.com/docs/loopio-api/bedaddd3877a9-create-a-library-entry\n",
    "    - Endpoint to create a new library entry \n"
   ]
  },
  {
   "attachments": {},
   "cell_type": "markdown",
   "metadata": {},
   "source": [
    "## Interacting with the Loopio API \n",
    "1. Use API tokens to checkout a temporary bearer token \n",
    "2. Use the Loopio API to read the library entries"
   ]
  },
  {
   "cell_type": "code",
   "execution_count": null,
   "metadata": {},
   "outputs": [],
   "source": [
    "import requests\n",
    "import json"
   ]
  },
  {
   "cell_type": "code",
   "execution_count": null,
   "metadata": {},
   "outputs": [],
   "source": [
    "def get_secrets(fn,secret): \n",
    "    \"\"\"Small helper to get secrets from the file\"\"\"\n",
    "    f = open(fn)\n",
    "    dict = json.load(f)\n",
    "    return dict[secret]\n",
    "    "
   ]
  },
  {
   "cell_type": "code",
   "execution_count": null,
   "metadata": {},
   "outputs": [],
   "source": [
    "host = \"https://api.int01.loopio.com/oauth2/access_token\"\n",
    "id = get_secrets(fn=\"./secrets/loopio_secret\",secret=\"id\")\n",
    "secret = get_secrets(fn=\"./secrets/loopio_secret\", secret=\"secret\")\n",
    "\n",
    "headers = {\n",
    "    \"content_type\": \"application/x-www-form-urlencoded\"\n",
    "}\n",
    "payload = { \n",
    "    \"grant_type\":\"client_credentials\", \n",
    "    \"client_id\":id,\n",
    "    \"client_secret\": secret\n",
    "}"
   ]
  },
  {
   "cell_type": "code",
   "execution_count": null,
   "metadata": {},
   "outputs": [],
   "source": [
    "r = requests.post(host,headers=headers, data=payload)"
   ]
  },
  {
   "cell_type": "code",
   "execution_count": null,
   "metadata": {},
   "outputs": [],
   "source": [
    "r.content"
   ]
  }
 ],
 "metadata": {
  "kernelspec": {
   "display_name": "venv",
   "language": "python",
   "name": "python3"
  },
  "language_info": {
   "codemirror_mode": {
    "name": "ipython",
    "version": 3
   },
   "file_extension": ".py",
   "mimetype": "text/x-python",
   "name": "python",
   "nbconvert_exporter": "python",
   "pygments_lexer": "ipython3",
   "version": "3.10.5"
  },
  "orig_nbformat": 4
 },
 "nbformat": 4,
 "nbformat_minor": 2
}
