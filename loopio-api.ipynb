{
 "cells": [
  {
   "cell_type": "markdown",
   "metadata": {},
   "source": [
    "## Loopio API\n",
    "\n",
    "Documentation of the different API endpoints used for Loopio\n",
    "- https://developer.loopio.com/docs/loopio-api/55ef47e33f5eb-list-library-entries-you-can-interact-with\n",
    "    - Argument to filter as part of the query parameters \n",
    "    - Is it possible to filter based on tags are part of the API query \n",
    "- https://developer.loopio.com/docs/loopio-api/6e8ee29b39bf0-update-core-properties-of-a-library-entry\n",
    "    - Endpoint to update the properties of a library entry, will use to tag \n",
    "- https://developer.loopio.com/docs/loopio-api/bedaddd3877a9-create-a-library-entry\n",
    "    - Endpoint to create a new library entry \n"
   ]
  },
  {
   "attachments": {},
   "cell_type": "markdown",
   "metadata": {},
   "source": [
    "## Interacting with the Loopio API \n",
    "1. Use API tokens to checkout a temporary bearer token \n",
    "2. Use the Loopio API to read the library entries"
   ]
  },
  {
   "cell_type": "code",
   "execution_count": null,
   "metadata": {},
   "outputs": [],
   "source": [
    "import requests\n",
    "import json"
   ]
  },
  {
   "cell_type": "markdown",
   "metadata": {},
   "source": [
    "### Function to get the Bearer Authorization Token\n",
    "----\n",
    "\n",
    "`get_secrets` helper function retrieves `id` and `secret` from a file  \n",
    "`get_auth_token` queries the auth token route and returns the bearer token for later use"
   ]
  },
  {
   "cell_type": "code",
   "execution_count": null,
   "metadata": {},
   "outputs": [],
   "source": [
    "def get_secrets(fn,secret): \n",
    "    \"\"\"Small helper to get secrets from the file\"\"\"\n",
    "    f = open(fn)\n",
    "    dict = json.load(f)\n",
    "    return dict[secret]\n",
    "    "
   ]
  },
  {
   "cell_type": "code",
   "execution_count": null,
   "metadata": {},
   "outputs": [],
   "source": [
    "def get_auth_token(secrets_file:str,scope:str) -> str: \n",
    "    \"\"\"Function to get the oauth2 bearer token from the Loopio API\n",
    "        Inputs: Secrets File Location (str)\n",
    "        Outputs: Bearer Token (str)\n",
    "    \"\"\"\n",
    "    host = \"https://api.int01.loopio.com/oauth2/access_token\"\n",
    "    id = get_secrets(secrets_file,\"id\")\n",
    "    secret = get_secrets(secrets_file,\"secret\")\n",
    "    headers = {\n",
    "        \"content_type\": \"application/x-www-form-urlencoded\"\n",
    "    }   \n",
    "    payload = { \n",
    "        \"grant_type\":\"client_credentials\", \n",
    "        \"client_id\":id,\n",
    "        \"client_secret\": secret,\n",
    "        \"scope\":scope\n",
    "    }\n",
    "    r = requests.post(host,headers=headers, data=payload)\n",
    "    return r.json()[\"access_token\"]\n",
    "\n",
    "bearer_token = get_auth_token(\"./secrets/loopio_secret\", scope=\"library:read\")"
   ]
  },
  {
   "cell_type": "markdown",
   "metadata": {},
   "source": [
    "### API Integration #1\n",
    "    Get a list of Library Entries\n",
    "----\n",
    "\n",
    "**Purpose:** Build an inventory of all the library entries associated with a project  \n",
    "**Documentation:** https://loopio.stoplight.io/docs/loopio-api/55ef47e33f5eb-list-library-entries-you-can-interact-with"
   ]
  },
  {
   "cell_type": "code",
   "execution_count": null,
   "metadata": {},
   "outputs": [],
   "source": [
    "def get_library_entries():\n",
    "    \"\"\"Function to get the library entries available in this Loopio Instance\"\"\"\n",
    "    get_auth_token(secrets_file=\"./secrets/loopio_secret\", scope=\"library:read\")\n",
    "\n",
    "    url = \"https://api.int01.loopio.com/data/v2/libraryEntries\"\n",
    "    headers = { \n",
    "        \"Accept\":\"application/json\",\n",
    "        \"Authorization\": \"Bearer \" + bearer_token\n",
    "    }\n",
    "    r = requests.get(url,headers=headers)\n",
    "    return r.json()\n",
    "\n",
    "entries = get_library_entries()"
   ]
  },
  {
   "cell_type": "markdown",
   "metadata": {},
   "source": [
    "### API Integration #2\n",
    "    Update a library Entry Properties\n",
    "----\n",
    "\n",
    "**Purpose:** Enable the editing of a specified file. This would be used to flag a library entry as translated or not  \n",
    "**Documentation:** https://loopio.stoplight.io/docs/loopio-api/6e8ee29b39bf0-update-core-properties-of-a-library-entry"
   ]
  },
  {
   "cell_type": "code",
   "execution_count": 225,
   "metadata": {},
   "outputs": [
    {
     "data": {
      "text/plain": [
       "565933"
      ]
     },
     "execution_count": 225,
     "metadata": {},
     "output_type": "execute_result"
    }
   ],
   "source": [
    "first_entry = entries[\"items\"][0]\n",
    "id = first_entry[\"id\"]\n",
    "bearer_token = get_auth_token(secrets_file=\"./secrets/loopio_secret\",scope=\"library:write\")\n",
    "id\n"
   ]
  },
  {
   "cell_type": "code",
   "execution_count": 221,
   "metadata": {},
   "outputs": [],
   "source": [
    "url = \"https://api.int01.loopio.com/data/v2/libraryEntries/{id}\"\n",
    "url = url.format(id=id)\n",
    "headers = {\n",
    "    \"Accept\":\"application/json\",\n",
    "    \"Authorization\": \"Bearer \" + bearer_token,\n",
    "    \"Content-Type\": \"application/json-patch+json\",\n",
    "}\n",
    "data = [\n",
    "    {\n",
    "    \"path\":\"/languageCode\",\n",
    "    \"op\": \"replace\",\n",
    "    \"value\": \"en\"\n",
    "    }, \n",
    "    {\"path\":\"/tags/0\", \"op\":\"add\", \"value\":\"new-val\"}\n",
    "]\n",
    "\n",
    "r = requests.patch(url.format(libraryEntryId=id), headers=headers, data=json.dumps(data))\n",
    "r.json()"
   ]
  },
  {
   "cell_type": "code",
   "execution_count": 224,
   "metadata": {},
   "outputs": [],
   "source": [
    "def patch_update_library_entry(id, json_patch:list):\n",
    "    \"\"\"Update a library entry\n",
    "        Inputs: Object ID\n",
    "        json_patch: Array of JSON objects representing the patch\n",
    "\n",
    "        Example to change the Language Code to Spanish: \n",
    "        data = [\n",
    "            {\"path\":\"/languageCode\", \"op\":\"replace\", \"value\":\"es\"}\n",
    "        ]\n",
    "    \"\"\"\n",
    "    # Get the Bearer Token \n",
    "    bearer_token = get_auth_token(secrets_file=\"./secrets/loopio_secret\",scope=\"library:write\")\n",
    "\n",
    "    # Construct the Request\n",
    "    url = \"https://api.int01.loopio.com/data/v2/libraryEntries/{id}\"\n",
    "    url = url.format(id=id)\n",
    "    headers = {\n",
    "        \"Accept\":\"application/json\",\n",
    "        \"Authorization\": \"Bearer \" + bearer_token,\n",
    "        \"Content-Type\": \"application/json-patch+json\",\n",
    "    }\n",
    "\n",
    "    # Execute the Patch Request \n",
    "    r = requests.patch(url.format(libraryEntryId=id), headers=headers, data=json.dumps(json_patch))\n",
    "    return r.status_code"
   ]
  },
  {
   "cell_type": "code",
   "execution_count": null,
   "metadata": {},
   "outputs": [],
   "source": [
    "json_patch = \n",
    "patch_update_library_entry(565933)"
   ]
  }
 ],
 "metadata": {
  "kernelspec": {
   "display_name": "venv",
   "language": "python",
   "name": "python3"
  },
  "language_info": {
   "codemirror_mode": {
    "name": "ipython",
    "version": 3
   },
   "file_extension": ".py",
   "mimetype": "text/x-python",
   "name": "python",
   "nbconvert_exporter": "python",
   "pygments_lexer": "ipython3",
   "version": "3.10.5"
  },
  "orig_nbformat": 4
 },
 "nbformat": 4,
 "nbformat_minor": 2
}
